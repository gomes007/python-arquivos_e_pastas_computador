{
 "cells": [
  {
   "cell_type": "markdown",
   "id": "a149c054",
   "metadata": {},
   "source": [
    "### Executar Comandos Javascript (Scroll da tela)\n",
    "\n",
    "- Você consegue, por meio do Selenium, executar comandos javascript no seu navegador\n",
    "\n",
    "- Isso é essencial para dar scroll na tela, por exemplo, caso seja necessário, como no youtube"
   ]
  },
  {
   "cell_type": "code",
   "execution_count": 1,
   "id": "dabcb19b",
   "metadata": {},
   "outputs": [
    {
     "name": "stderr",
     "output_type": "stream",
     "text": [
      "C:\\Users\\Paulo\\AppData\\Local\\Temp/ipykernel_12052/2673288960.py:9: DeprecationWarning: find_elements_by_* commands are deprecated. Please use find_elements() instead\n",
      "  driver.find_elements_by_xpath('//*[@id=\"search\"]')[2].send_keys('teste')\n"
     ]
    }
   ],
   "source": [
    "# quero pegar uma lista de pelo menos 50 vídeos de Python no Youtube\n",
    "from selenium import webdriver\n",
    "from selenium.webdriver.common.keys import Keys\n",
    "import time\n",
    "\n",
    "driver = webdriver.Chrome()\n",
    "driver.get('https://www.youtube.com/')\n",
    "\n",
    "driver.find_elements_by_xpath('//*[@id=\"search\"]')[2].send_keys('teste')\n"
   ]
  },
  {
   "cell_type": "code",
   "execution_count": null,
   "id": "34aa11fe",
   "metadata": {},
   "outputs": [],
   "source": []
  }
 ],
 "metadata": {
  "kernelspec": {
   "display_name": "Python 3 (ipykernel)",
   "language": "python",
   "name": "python3"
  },
  "language_info": {
   "codemirror_mode": {
    "name": "ipython",
    "version": 3
   },
   "file_extension": ".py",
   "mimetype": "text/x-python",
   "name": "python",
   "nbconvert_exporter": "python",
   "pygments_lexer": "ipython3",
   "version": "3.9.7"
  }
 },
 "nbformat": 4,
 "nbformat_minor": 5
}
