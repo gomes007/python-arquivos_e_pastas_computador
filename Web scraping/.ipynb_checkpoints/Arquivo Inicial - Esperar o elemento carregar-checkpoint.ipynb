{
 "cells": [
  {
   "cell_type": "markdown",
   "id": "e6fa5871",
   "metadata": {},
   "source": [
    "### Esperar o Elemento carregar\n",
    "\n",
    "2 métodos:\n",
    "\n",
    "- WebDriverWait + ExpectedConditions (EC)\n",
    "    - Nativo do Selenium, menos linhas de código\n",
    "    - Já vi dar bug e mais chatinho de lembrar\n",
    "- Loop de espera\n",
    "    - Criação de uma espera \"manual\"\n",
    "    - Nunca abandona"
   ]
  },
  {
   "cell_type": "code",
   "execution_count": 1,
   "id": "a240da55",
   "metadata": {},
   "outputs": [],
   "source": [
    "from selenium import webdriver\n",
    "\n",
    "driver = webdriver.Chrome()\n",
    "driver.get(\"https://hashtagtreinamentos.com\")\n",
    "driver.find_element_by_xpath('//*[@id=\"elementor-popup-modal-13160\"]/div/div[4]/i').click()"
   ]
  },
  {
   "cell_type": "code",
   "execution_count": 6,
   "id": "13792b7b",
   "metadata": {},
   "outputs": [
    {
     "name": "stdout",
     "output_type": "stream",
     "text": [
      "fechou\n"
     ]
    }
   ],
   "source": [
    "# WebDriverWait e EC\n",
    "from selenium import webdriver\n",
    "from selenium.webdriver.common.by import By\n",
    "from selenium.webdriver.support.ui import WebDriverWait\n",
    "from selenium.webdriver.support import expected_conditions as EC\n",
    "\n",
    "driver = webdriver.Chrome()\n",
    "driver.get(\"https://hashtagtreinamentos.com\")\n",
    "\n",
    "element = WebDriverWait(driver, 30).until(EC.presence_of_element_located((By.CLASS_NAME, \"eicon-close\")))\n",
    "time.sleep(1)\n",
    "element.click()\n",
    "\n",
    "print('fechou')"
   ]
  },
  {
   "cell_type": "code",
   "execution_count": null,
   "id": "0efe8125",
   "metadata": {},
   "outputs": [],
   "source": [
    "# loop\n",
    "driver = webdriver.Chrome()\n",
    "driver.get(\"https://hashtagtreinamentos.com\")\n",
    "\n",
    "while len(driver.find_element_by_class_name(\"eicon-close\")) == 0:\n",
    "    time.sleep(1)\n",
    "driver.find_element_by_class_name(\"eicon-close\").click()\n",
    "print('fechou')"
   ]
  }
 ],
 "metadata": {
  "kernelspec": {
   "display_name": "Python 3 (ipykernel)",
   "language": "python",
   "name": "python3"
  },
  "language_info": {
   "codemirror_mode": {
    "name": "ipython",
    "version": 3
   },
   "file_extension": ".py",
   "mimetype": "text/x-python",
   "name": "python",
   "nbconvert_exporter": "python",
   "pygments_lexer": "ipython3",
   "version": "3.9.7"
  }
 },
 "nbformat": 4,
 "nbformat_minor": 5
}
