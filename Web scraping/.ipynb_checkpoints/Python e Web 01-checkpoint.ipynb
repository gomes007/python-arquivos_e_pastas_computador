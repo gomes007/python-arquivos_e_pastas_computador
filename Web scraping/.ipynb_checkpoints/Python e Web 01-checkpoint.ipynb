{
 "cells": [
  {
   "cell_type": "markdown",
   "metadata": {},
   "source": [
    "# Integração Python e Web\n",
    "\n",
    "### Objetivo\n",
    "\n",
    "- Quando integramos o Python com a Web temos 2 objetivos:\n",
    "    1. Automatizar algum processo que seja feito no seu navegador\n",
    "    \n",
    "    2. Puxar informações de sites automaticamente \n",
    "\n",
    "Dependendo do seu objetivo, podem existir outras formas de puxar informações de sites diferentes, como APIs, Bibliotecas prontas, etc. Mas o Selenium vai ser sempre uma opção para a gente e por isso é muito bom ter essa carta na manga.\n",
    "\n",
    "### O que vamos usar\n",
    "\n",
    "- Selenium -> uma das bibliotecas mais usadas para web-scraping -> navegar na web com código e fazer alguma coisa ou pegar alguma informação.\n",
    "\n",
    "- Essa é uma biblioteca diferente, porque ela precisa de um driver no seu computador para funcionar. No caso, usaremos o ChromeDriver (disponível para download abaixo da aula)\n",
    "\n",
    "Como tudo no Python, existem outras bibliotecas como a BeautifulSoup que podem ajudar em tarefas específicas também, mas vamos focar no Selenium por ser a mais usada e ser muito versátil.\n",
    "\n",
    "\n",
    "Obs: Caso esteja usando o Google Colab, o navegador não vai abrir ativamente no seu computador, ele vai ficar escondido porque abre no computador onde está rodando o código. Para então fazer tudo funcionar, eu gravei um vídeo para você que está na plataforma que repliquei esse passo a passo que encontrei na internet: https://www.it-swarm-pt.tech/pt/selenium/como-podemos-usar-o-selenium-webdriver-em-colab.research.google.com/806263350/\n",
    "\n",
    "### Projeto Completo\n",
    "\n",
    "Vamos fazer aqui nesse módulo uma introdução para você entender como funciona e resolver um desafio, mas vamos usar mais e de forma mais completa na Aplicação de Mercado de Trabalho de Automações"
   ]
  },
  {
   "cell_type": "markdown",
   "metadata": {},
   "source": [
    "### Abrindo um navegador"
   ]
  },
  {
   "cell_type": "code",
   "execution_count": 1,
   "metadata": {},
   "outputs": [
    {
     "ename": "ModuleNotFoundError",
     "evalue": "No module named 'selenium'",
     "output_type": "error",
     "traceback": [
      "\u001b[1;31m---------------------------------------------------------------------------\u001b[0m",
      "\u001b[1;31mModuleNotFoundError\u001b[0m                       Traceback (most recent call last)",
      "\u001b[1;32m~\\AppData\\Local\\Temp/ipykernel_4904/1989214042.py\u001b[0m in \u001b[0;36m<module>\u001b[1;34m\u001b[0m\n\u001b[1;32m----> 1\u001b[1;33m \u001b[1;32mfrom\u001b[0m \u001b[0mselenium\u001b[0m \u001b[1;32mimport\u001b[0m \u001b[0mwebdriver\u001b[0m\u001b[1;33m\u001b[0m\u001b[1;33m\u001b[0m\u001b[0m\n\u001b[0m\u001b[0;32m      2\u001b[0m \u001b[1;33m\u001b[0m\u001b[0m\n\u001b[0;32m      3\u001b[0m \u001b[0mdriver\u001b[0m \u001b[1;33m=\u001b[0m \u001b[0mwebdriver\u001b[0m\u001b[1;33m.\u001b[0m\u001b[0mChrome\u001b[0m\u001b[1;33m(\u001b[0m\u001b[1;33m)\u001b[0m\u001b[1;33m\u001b[0m\u001b[1;33m\u001b[0m\u001b[0m\n\u001b[0;32m      4\u001b[0m \u001b[0mdriver\u001b[0m\u001b[1;33m.\u001b[0m\u001b[0mget\u001b[0m\u001b[1;33m(\u001b[0m\u001b[1;34m\"http://www.hashtagtreinamentos.com\"\u001b[0m\u001b[1;33m)\u001b[0m\u001b[1;33m\u001b[0m\u001b[1;33m\u001b[0m\u001b[0m\n\u001b[0;32m      5\u001b[0m \u001b[0mprint\u001b[0m\u001b[1;33m(\u001b[0m\u001b[0mdriver\u001b[0m\u001b[1;33m.\u001b[0m\u001b[0mtitle\u001b[0m\u001b[1;33m)\u001b[0m\u001b[1;33m\u001b[0m\u001b[1;33m\u001b[0m\u001b[0m\n",
      "\u001b[1;31mModuleNotFoundError\u001b[0m: No module named 'selenium'"
     ]
    }
   ],
   "source": [
    "from selenium import webdriver\n",
    "\n",
    "driver = webdriver.Chrome()\n",
    "driver.get(\"http://www.hashtagtreinamentos.com\")\n",
    "print(driver.title)"
   ]
  },
  {
   "cell_type": "code",
   "execution_count": null,
   "metadata": {},
   "outputs": [],
   "source": []
  }
 ],
 "metadata": {
  "kernelspec": {
   "display_name": "Python 3 (ipykernel)",
   "language": "python",
   "name": "python3"
  },
  "language_info": {
   "codemirror_mode": {
    "name": "ipython",
    "version": 3
   },
   "file_extension": ".py",
   "mimetype": "text/x-python",
   "name": "python",
   "nbconvert_exporter": "python",
   "pygments_lexer": "ipython3",
   "version": "3.9.7"
  }
 },
 "nbformat": 4,
 "nbformat_minor": 4
}
