{
 "cells": [
  {
   "cell_type": "markdown",
   "metadata": {},
   "source": [
    "# RPA com Python\n",
    "\n",
    "- O que é RPA?\n",
    "- Por que isso é diferente de Selenium/Web-Scraping e do que vimos até agora?\n",
    "    - Pontos Positivos\n",
    "    - Pontos Negativos\n",
    "- Biblioteca usada:\n",
    "    - pip install pyautogui\n",
    "    - https://pyautogui.readthedocs.io/en/latest/\n",
    "        - Para os comandos de imagem pode ser que seja necessário instalar pip install pillow\n",
    "        - Para resolver problemas de caracteres especiais vamos usar um macete com a pyperclip\n",
    "        \n",
    "- Link com um resumo dos principais comandos: https://pyautogui.readthedocs.io/en/latest/quickstart.html"
   ]
  },
  {
   "cell_type": "markdown",
   "metadata": {},
   "source": [
    "## Desafio\n",
    "\n",
    "- Vamos automatizar a extração de informações de um sistema e envio de um relatório por e-mail\n",
    "- No nosso caso, para todo mundo conseguir fazer o mesmo programa, o nosso \"sistema\" vai ser o Gmail, mas o mesmo processo pode ser feito com qualquer programa do seu computador e qualquer sistema\n",
    "    - Passo 1: Entrar no sistema (entrar no Gmail)\n",
    "    - Passo 2: Entrar em uma aba específica do sistema onde tem o nosso relatório (Aba Contatos)\n",
    "    - Passo 3: Exportar o Relatório (Exportar Contatos)\n",
    "    - Passo 4: Pegar o relatório exportado, tratar e pegar as informações que queremos\n",
    "    - Passo 5: Preencher/Atualizar informações do sistema (No nosso caso, criar um e-mail e enviar)"
   ]
  },
  {
   "cell_type": "code",
   "execution_count": 19,
   "metadata": {},
   "outputs": [
    {
     "data": {
      "text/plain": [
       "'OK'"
      ]
     },
     "execution_count": 19,
     "metadata": {},
     "output_type": "execute_result"
    }
   ],
   "source": [
    "import pyautogui\n",
    "import time\n",
    "import pandas as pd\n",
    "import pyperclip\n",
    "\n",
    "# pyautogui.write() -> escreve\n",
    "# pyautogui.click -> clica\n",
    "# pyautogui.locateOnScreen -> identifica uma imagem na sua tela\n",
    "# pyautogui.hotkey -> usa atalhos do teclado (combinação de teclas)\n",
    "# pyautogui.press -> aperta um botão do teclado\n",
    "# print(pyautogui.KEYBOARD_KEYS)\n",
    "\n",
    "pyautogui.alert('O código vai começar. Não mexa em NADA enquanto o código tiver rodando. Quando finalizar, eu te aviso')\n",
    "\n",
    "pyautogui.PAUSE = 1\n",
    "# apertar o windows do teclado\n",
    "pyautogui.press('win')\n",
    "# digitar chrome\n",
    "pyautogui.write(\"chrome\")\n",
    "# apertar enter\n",
    "pyautogui.press('enter')\n",
    "\n",
    "# entrar no Gmail\n",
    "pyautogui.write('gmail')\n",
    "pyautogui.press('enter')\n",
    "\n",
    "#esperar carregar o google\n",
    "while not pyautogui.locateOnScreen('busca_google.png'):\n",
    "    time.sleep(1)\n",
    "\n",
    "# localizar a imagem -> vai te dar 4 informações: posicao x, posicao y, largura e altura\n",
    "x, y, largura, altura = pyautogui.locateOnScreen('busca_google.png')\n",
    "# clicar no meio da imagem\n",
    "pyautogui.click(x + largura/2, y + altura/2)\n",
    "\n",
    "\n",
    "#esperar o gmail\n",
    "while not pyautogui.locateOnScreen('logo_gmail.png'):\n",
    "    time.sleep(1)\n",
    "\n",
    "#clicar no botão escrever\n",
    "x, y, largura, altura = pyautogui.locateOnScreen('escrever.png')\n",
    "pyautogui.click(x + largura/2, y + altura/2)\n",
    "\n",
    "# escrever o email\n",
    "pyautogui.write('psgomesbh@gmail.com;gomes7.paulo@gmail.com')\n",
    "\n",
    "# enter\n",
    "pyautogui.press('enter')\n",
    "#tab para o assunto do email\n",
    "pyautogui.press('tab')\n",
    "pyautogui.write('Lira Caloteiro')\n",
    "#tab para o corpo do email\n",
    "pyautogui.press('tab')\n",
    "texto = \"\"\"\n",
    "    Coe João Lira,\n",
    "    \n",
    "    Para de dar calote na Hashtag e paga as parcelas aí, namoral.\n",
    "    \n",
    "    Abs e tmj\"\"\"\n",
    "pyperclip.copy(texto)\n",
    "pyautogui.hotkey('ctrl', 'v')\n",
    "pyautogui.hotkey('ctrl', 'enter')\n",
    "    \n",
    "pyautogui.alert('O código terminou, pode pegar o seu computador de volta')\n"
   ]
  },
  {
   "cell_type": "markdown",
   "metadata": {},
   "source": [
    "### E se eu já tiver com a aba aberta, como que eu coloco ela na frente?"
   ]
  },
  {
   "cell_type": "code",
   "execution_count": 42,
   "metadata": {},
   "outputs": [
    {
     "name": "stdout",
     "output_type": "stream",
     "text": [
      "Achei o paint\n"
     ]
    }
   ],
   "source": [
    "while not pyautogui.locateOnScreen('paint.png'):\n",
    "    pyautogui.hotkey('alt', 'shift', 'tab') \n",
    "print(\"Achei o paint\")"
   ]
  },
  {
   "cell_type": "markdown",
   "metadata": {},
   "source": [
    "### Como descobrir a posição do mouse do local que eu quero"
   ]
  },
  {
   "cell_type": "code",
   "execution_count": 22,
   "metadata": {},
   "outputs": [
    {
     "name": "stdout",
     "output_type": "stream",
     "text": [
      "Point(x=483, y=207)\n"
     ]
    }
   ],
   "source": [
    "#pyautogui.click(2470, 38)\n",
    "print(pyautogui.position())"
   ]
  },
  {
   "cell_type": "code",
   "execution_count": null,
   "metadata": {},
   "outputs": [],
   "source": []
  }
 ],
 "metadata": {
  "kernelspec": {
   "display_name": "Python 3 (ipykernel)",
   "language": "python",
   "name": "python3"
  },
  "language_info": {
   "codemirror_mode": {
    "name": "ipython",
    "version": 3
   },
   "file_extension": ".py",
   "mimetype": "text/x-python",
   "name": "python",
   "nbconvert_exporter": "python",
   "pygments_lexer": "ipython3",
   "version": "3.9.7"
  }
 },
 "nbformat": 4,
 "nbformat_minor": 4
}
